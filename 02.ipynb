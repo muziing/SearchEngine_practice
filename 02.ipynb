{
 "cells": [
  {
   "cell_type": "code",
   "execution_count": 15,
   "metadata": {},
   "outputs": [
    {
     "name": "stdout",
     "output_type": "stream",
     "text": [
      "520 processed.\r"
     ]
    }
   ],
   "source": [
    "import requests\n",
    "from lxml import etree\n",
    "from time import sleep\n",
    "url = 'http://news.163.com/special/0001386F/rank_tech.html'  \n",
    "headers = {'user-agent': 'Mozilla/5.0 (Windows NT 10.0; Win64; x64) AppleWebKit/537.36 (KHTML, like Gecko) Chrome/90.0.4412.0 Safari/537.36 Edg/90.0.796.0'}\n",
    "r = requests.get(url, headers=headers)  \n",
    "sel = etree.HTML(r.text)\n",
    "link_set = set()\n",
    "news_list = list()\n",
    "count = 0\n",
    "for item in sel.xpath('//td/a'):\n",
    "    title = item.text\n",
    "    link = item.attrib['href']\n",
    "#     print(link, title)\n",
    "    if link not in link_set:\n",
    "        r = requests.get(link, headers=headers)  \n",
    "        sel = etree.HTML(r.text)\n",
    "        text_block = sel.xpath(\"//div[@id='content']/div[@class='post_body']\")\n",
    "#         print(''.join(text_block[0].itertext()))\n",
    "        content = ''.join(text_block[0].xpath('./p/text()'))\n",
    "        title = sel.xpath('//h1/text()')[0]\n",
    "        news_list.append([link, title, content])\n",
    "        link_set.add(link)\n",
    "    count += 1\n",
    "    sleep(0.5)\n",
    "    if count % 20 == 0:\n",
    "        print(count, 'processed.', end='\\r')"
   ]
  },
  {
   "cell_type": "code",
   "execution_count": 16,
   "outputs": [],
   "source": [
    "import pickle\n",
    "def pickle_save(to_save):\n",
    "    if to_save:\n",
    "        with open('./news_list.pkl', 'wb') as p:\n",
    "            pickle.dump(str(news_list), p, True)\n",
    "    else:\n",
    "        print(\"news_list为空！\")\n",
    "\n",
    "def pickle_load(file):\n",
    "    with open(file, 'rb') as p:\n",
    "        return eval(pickle.load(p))"
   ],
   "metadata": {
    "collapsed": false,
    "pycharm": {
     "name": "#%%\n"
    }
   }
  },
  {
   "cell_type": "code",
   "execution_count": 17,
   "outputs": [],
   "source": [
    "pickle_save(news_list)"
   ],
   "metadata": {
    "collapsed": false,
    "pycharm": {
     "name": "#%%\n"
    }
   }
  },
  {
   "cell_type": "code",
   "execution_count": 18,
   "metadata": {},
   "outputs": [
    {
     "name": "stdout",
     "output_type": "stream",
     "text": [
      "227\n"
     ]
    },
    {
     "data": {
      "text/plain": "['https://tech.163.com/21/0219/17/G37FBB9C000999DH.html',\n '4万年前地球磁场反转了？尼安德特人衰落和它有关？',\n '\\n\\n\\n始终处于运动状态，当北极和南极的磁极互换位置时，磁场也会发生反转。在我们这个日益依赖电子产品的世界里，这样的反转可能会严重扰乱通信网络。但最新研究显示，地球磁场反转的影响可能远比这更严重。最近，科学家们首次发现了磁极反转可能会对生态造成严重影响的证据，他们的研究将大约4.2万年前的磁场反转与全球范围内的气候剧变联系起来。这场剧变导致了，并重塑了人类行为。图1：在地球上的白昼部分，磁场重联将来自的物质和能量汇集到地球的磁场环境中地球磁层（即环绕地球的磁障）起源于热熔融金属围绕其铁核的搅动。根据美国宇航局（NASA）的说法，这种持续搅动的液体流产生的电力反过来又回产生磁力线，这些磁力线呈现弧形连接着两极。就像保护气泡一样，磁场保护地球不受太阳的影响。在地球面向太阳的一侧，太阳风的持续轰击挤压了磁场，因此磁场延伸的距离不超过地球半径的10倍。然而，NASA认为，在地球背对太阳的一侧，磁场向太空延伸得更远，形成了巨大的“磁尾”，甚至延伸到月球之外。地球上弧形磁力线汇聚的两个点是磁北极和磁南极。但是，虽然这些位置相对稳定，但两极以及磁场本身并非总是存在于固定的位置。大约每隔20万到30万年，磁场就会减弱到足以完全反转极性的地步。NASA认为，这个过程可能需要数百年甚至数千年的时间。这项研究的主要作者、新西兰奥塔哥大学地质系名誉教授艾伦·库珀(Alan Cooper)表示，保存在火山沉积物和其他沉积物中的磁性分子告诉科学家，过去的磁极反转发生在何时。这些分子与它们沉积时的磁场一致，因此它们指示了磁北极所在的位置。最近，研究人员质疑，发生在4.1万到4.2万年前的拉尚漂移(Laschamps Excursion)这次相对较近的短暂极性反转，是否与当时地球上的其他剧变有关，此前这些变化并未被归因于磁层活动所致。研究人员怀疑，在我们的保护性磁场反转时，太阳和宇宙辐射可能会对大气产生足够的影响，从而影响气候。根据这项研究，之前对格陵兰冰芯的研究可以追溯到拉尚漂移，但并没有揭示气候变化的证据。但这一次，研究人员将他们的注意力转向了另一个潜在的气候数据来源，即来自新西兰北部沼泽保存的贝壳杉(Agathis Australis)。他们从保存下来的树干上切下横截面（称为饼干），并观察了包括拉尚漂移在内的那段时期内碳14(放射性元素)水平的变化。他们的分析显示，在拉尚漂移期间，当磁场减弱时，大气中放射性碳的水平会升高。库珀称：“一旦我们从贝壳杉树干记录中计算出确切的时间，我们发现它与世界各地气候和生物变化的记录完全吻合。”例如，大约在这个时候，澳大利亚的巨型动物开始灭绝，欧洲的尼安德特人也在衰落，这些地方生态系统与气候有关的变化可能加速了他们的灭亡。然后，研究人员使用计算机气候模型来测试可能导致大范围气候剧变和相关物种灭绝的原因。库珀解释说，他们发现，弱磁场（大约是正常强度的6%）可能会导致重大的气候影响，包括强烈的电离辐射破坏臭氧层，紫外线穿过大气层，太阳能量被大气吸收的方式发生改变等。库珀还说，严重电离的大气层也可能在世界各地产生灿烂的极光，并产生频繁的闪电风暴，使天空看起来像“某种类似灾难电影中的场景”。图2：西班牙El Castillo洞穴中的红色赭色手印制作于近4.2万年前，研究人员认为这可能是人类涂抹防晒霜的标志大约在那个时候，另一个重大变化发生在智人身上，洞穴艺术开始出现在世界各地。库珀说，这包括首批红色赭色手印，“我们怀疑这实际上是涂抹防晒霜的标志”，这种做法仍然存在于纳米比亚的现代土著群体中。他说，弱磁场带来的较高紫外线水平可能会促使人类在洞穴中寻找避难所，或者迫使他们用防晒矿物质来保护皮肤。科学家无法准确预测我们的磁场下次反转可能发生的时间。然而，根据这项研究，许多迹象表明地球磁场反转的时间可能比我们想象的更近，这使得研究人员更迫切地需要充分了解磁场变化会如何影响全球范围内的环境。科学家们写道：“总的来说，这些发现提出了一些重要的问题，即在更深的地质记录中，磁场反转和漂移如何对进化产生影响。”\\xa0 （小小）\\n\\n\\n\\n                    ']"
     },
     "execution_count": 18,
     "metadata": {},
     "output_type": "execute_result"
    }
   ],
   "source": [
    "news_list = pickle_load('./news_list.pkl')\n",
    "print(len(news_list))\n",
    "news_list[22]"
   ]
  },
  {
   "cell_type": "code",
   "execution_count": null,
   "metadata": {
    "pycharm": {
     "name": "#%%\n"
    }
   },
   "outputs": [],
   "source": []
  }
 ],
 "metadata": {
  "kernelspec": {
   "display_name": "Python 3",
   "language": "python",
   "name": "python3"
  },
  "language_info": {
   "codemirror_mode": {
    "name": "ipython",
    "version": 3
   },
   "file_extension": ".py",
   "mimetype": "text/x-python",
   "name": "python",
   "nbconvert_exporter": "python",
   "pygments_lexer": "ipython3",
   "version": "3.8.7"
  }
 },
 "nbformat": 4,
 "nbformat_minor": 4
}